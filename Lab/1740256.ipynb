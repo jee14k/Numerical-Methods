{
 "cells": [
  {
   "cell_type": "markdown",
   "metadata": {},
   "source": [
    "# <center>Practical End Semester Lab Exam <br><br> Jeevan Koshy <br><br> 1740256 <center/>"
   ]
  },
  {
   "cell_type": "code",
   "execution_count": 1,
   "metadata": {
    "collapsed": true
   },
   "outputs": [],
   "source": [
    "import numpy as np\n",
    "import matplotlib.pyplot as plt\n",
    "import math"
   ]
  },
  {
   "cell_type": "markdown",
   "metadata": {},
   "source": [
    "1. Water is flowing in a trapezoidal channel at a rate of $Q = 20 m^3/s$. The critical depth $y$ for such a channel must satisfy the equation $0 = 1 - \\frac{Q^2}{gA^3_{c}}B$ where, $g = 9.81m/s^2$, $A_c$ = the cross - sectional area can be related to depth $y$ by $B = 3 + y$ and $A_c = 3y + \\frac{y^2}{2}$. Solve for the critical depth using Bisection and false position. Use initial guesses of 0.5 and 2.5 and iterate until the approximate error falls below 1% or the number of iterations exceeds 10. Discuss your results.    "
   ]
  },
  {
   "cell_type": "code",
   "execution_count": null,
   "metadata": {},
   "outputs": [],
   "source": [
    "g = 9.81\n",
    "\n",
    "def fun(x)->float:\n",
    "    return 1 - (Q^2/g*A^3)*B\n",
    "                     \n",
    "def nextapprox(a, b)->float:\n",
    "    return (a+b)/2\n",
    "\n",
    "if __name__==\"__main__\":\n",
    "    a=float(input(\"Enter lower limit: \"))\n",
    "    b=float(input(\"Enter upper limit: \"))\n",
    "    X=np.linspace(a-1,b+1,1000)\n",
    "    \n",
    "    print()\n",
    "    print(\"a={0}\".format(a))\n",
    "    print(\"b={0}\".format(b))\n",
    "    neg=0.0\n",
    "    pos=0.0\n",
    "    count=0\n",
    "    print(\"f(a)={0}\\nf(b)={1}\\n\\n\".format(round(fun(a),6),round(fun(b),6)))\n",
    "    error=[]\n",
    "    funlist=[]\n",
    "    if fun(a)*fun(b)<0.0:\n",
    "        dash = '-' * 113\n",
    "        print(dash)\n",
    "        print(\"x\\t\\t   a\\t\\t       b\\t\\t     Aprroximation\\t\\t f(approx)\\tRel err\")\n",
    "        print(dash)\n",
    "        print()\n",
    "        if fun(a)<0.0:\n",
    "            neg=a\n",
    "            pos=b\n",
    "        else:\n",
    "            neg=b\n",
    "            pos=a\n",
    "        print(\"{0}\\t\\t{1:.6f}\\t\\t{2:.6f}\\t\\t{3:.6f}\\t\\t{4:.6f}\\t{5:.6f}\".format(count+1,round(neg,6),round(pos,6),round((neg+pos)/2,6),round(fun((neg+pos)/2),6),round(pos-neg,6)))\n",
    "        while True:\n",
    "            count=count+1\n",
    "            if fun(neg)*fun(pos)<0.0:\n",
    "                print()\n",
    "                x0=nextapprox(neg, pos)\n",
    "                funlist.append(fun(x0))\n",
    "                if fun(x0)<0:\n",
    "                    neg=round(x0, 6)\n",
    "                else:\n",
    "                    pos=round(x0, 6)\n",
    "                x1=nextapprox(neg, pos)\n",
    "                error.append(abs(pos-neg)/abs(pos+neg))\n",
    "                print(\"{0}\\t\\t{1:.6f}\\t\\t{2:.6f}\\t\\t{3:.6f}\\t\\t{4:.6f}\\t{5:.6f}\".format(count+1,round(neg,6),round(pos,6),round(x1,6),round(fun(x1),6),round(abs(pos-neg),6)))\n",
    "            if(abs(pos-neg)/abs(pos+neg) < 0.00005) :\n",
    "                print()\n",
    "                print(\"Approximate root is {0}\".format(round(x1,6)))\n",
    "                funlist.append(fun(x0))\n",
    "                break\n",
    "    else:\n",
    "        print()\n",
    "        print(\"Invalid interval entered\")"
   ]
  },
  {
   "cell_type": "markdown",
   "metadata": {},
   "source": [
    "2. It is general practice in engineering and science that equations be plotted as lines and discrete data as symbols. Here are some data for concentration $(c)$ versus time $(t)$  for the photodegradation of aqueous bromine. These data can be described by the following function: $c = 4.8e^{-0.034t}$. Use python program to create a plot displaying both the data (using diamond - shaped, filled - red symbols) and the function (using a green , dashed line). Plot the function for t = 0 to 70 min.  \n",
    "-----------------------------\n",
    "    t(min)   |    C(ppm)\n",
    "-----------------------------      \n",
    "      10     |      3.4\n",
    "      20     |      2.6\n",
    "      30     |      1.6\n",
    "      40     |      1.3\n",
    "      50     |      1.0\n",
    "      60     |      0.5"
   ]
  },
  {
   "cell_type": "code",
   "execution_count": 2,
   "metadata": {},
   "outputs": [
    {
     "data": {
      "text/plain": [
       "<matplotlib.text.Text at 0x1638fd71710>"
      ]
     },
     "execution_count": 2,
     "metadata": {},
     "output_type": "execute_result"
    },
    {
     "data": {
      "image/png": "[encoded data removed]",
      "text/plain": [
       "<matplotlib.figure.Figure at 0x1638fd13e80>"
      ]
     },
     "metadata": {
      "needs_background": "light"
     },
     "output_type": "display_data"
    }
   ],
   "source": [
    "t = [10,20,30,40,50,60]\n",
    "C = [3.4,2.6,1.6,1.3,1.0,0.5]\n",
    "\n",
    "plt.plot(t,C)\n",
    "plt.title(\"Time vs Concentration\")\n",
    "plt.xlabel(\"Time\")\n",
    "plt.ylabel(\"Concentration\")\n",
    "plt.show()"
   ]
  },
  {
   "cell_type": "markdown",
   "metadata": {},
   "source": [
    "***"
   ]
  }
 ],
 "metadata": {
  "kernelspec": {
   "display_name": "Python 3",
   "language": "python",
   "name": "python3"
  },
  "language_info": {
   "codemirror_mode": {
    "name": "ipython",
    "version": 3
   },
   "file_extension": ".py",
   "mimetype": "text/x-python",
   "name": "python",
   "nbconvert_exporter": "python",
   "pygments_lexer": "ipython3",
   "version": "3.6.8"
  }
 },
 "nbformat": 4,
 "nbformat_minor": 2
}
