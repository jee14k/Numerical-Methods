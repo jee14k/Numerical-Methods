{
 "cells": [
  {
   "cell_type": "markdown",
   "metadata": {},
   "source": [
    " # <center>Numerical Methods Mid Sem Lab Exam<center/>\n",
    " #  <center>Jeevan Koshy<center/> \n",
    " ## <center>1740256<center/> "
   ]
  },
  {
   "cell_type": "markdown",
   "metadata": {},
   "source": [
    "# Question 1"
   ]
  },
  {
   "cell_type": "markdown",
   "metadata": {},
   "source": [
    "### Write a python program to plot the relationship between gravitational force and distance between two bodies. Force is given by \n",
    "# $F = \\frac{Gm1m2}{r^2}$\n",
    "### $m1 = 1.5Kg$;\n",
    "### $m2 = 2.3Kg$;\n",
    "### $G = 6.674X10^-11Nm^2Kg^-2$. \n",
    "## Plot it for 20 different distances between 100 to 1000m."
   ]
  },
  {
   "cell_type": "code",
   "execution_count": 12,
   "metadata": {
    "collapsed": true
   },
   "outputs": [],
   "source": [
    "import numpy as np\n",
    "import matplotlib.pyplot as plt\n",
    "import math"
   ]
  },
  {
   "cell_type": "code",
   "execution_count": 32,
   "metadata": {},
   "outputs": [
    {
     "name": "stdout",
     "output_type": "stream",
     "text": [
      "---------------------------------------------\n",
      "Distance  | \tTime\n",
      "---------------------------------------------\n",
      "|  100 \t  | \t  2.3025299999999995e-14  \n",
      "|  120 \t  | \t  1.5989791666666663e-14  \n",
      "|  140 \t  | \t  1.1747602040816324e-14  \n",
      "|  160 \t  | \t  8.994257812499998e-15  \n",
      "|  180 \t  | \t  7.106574074074073e-15  \n",
      "|  200 \t  | \t  5.756324999999999e-15  \n",
      "|  220 \t  | \t  4.757293388429751e-15  \n",
      "|  240 \t  | \t  3.997447916666666e-15  \n",
      "|  260 \t  | \t  3.4061094674556208e-15  \n",
      "|  280 \t  | \t  2.936900510204081e-15  \n",
      "|  300 \t  | \t  2.5583666666666663e-15  \n",
      "|  320 \t  | \t  2.2485644531249995e-15  \n",
      "|  340 \t  | \t  1.9918079584775082e-15  \n",
      "|  360 \t  | \t  1.7766435185185182e-15  \n",
      "|  380 \t  | \t  1.5945498614958446e-15  \n",
      "|  400 \t  | \t  1.4390812499999997e-15  \n",
      "|  420 \t  | \t  1.3052891156462582e-15  \n",
      "|  440 \t  | \t  1.1893233471074377e-15  \n",
      "|  460 \t  | \t  1.0881521739130433e-15  \n",
      "|  480 \t  | \t  9.993619791666664e-16  \n",
      "|  500 \t  | \t  9.210119999999998e-16  \n",
      "|  520 \t  | \t  8.515273668639052e-16  \n",
      "|  540 \t  | \t  7.896193415637858e-16  \n",
      "|  560 \t  | \t  7.342251275510203e-16  \n",
      "|  580 \t  | \t  6.844619500594529e-16  \n",
      "|  600 \t  | \t  6.395916666666666e-16  \n",
      "|  620 \t  | \t  5.989932362122787e-16  \n",
      "|  640 \t  | \t  5.621411132812499e-16  \n",
      "|  660 \t  | \t  5.285881542699724e-16  \n",
      "|  680 \t  | \t  4.979519896193771e-16  \n",
      "|  700 \t  | \t  4.69904081632653e-16  \n",
      "|  720 \t  | \t  4.441608796296296e-16  \n",
      "|  740 \t  | \t  4.204766252739225e-16  \n",
      "|  760 \t  | \t  3.9863746537396116e-16  \n",
      "|  780 \t  | \t  3.7845660749506894e-16  \n",
      "|  800 \t  | \t  3.597703124999999e-16  \n",
      "|  820 \t  | \t  3.4243456276026167e-16  \n",
      "|  840 \t  | \t  3.2632227891156456e-16  \n",
      "|  860 \t  | \t  3.1132098431584635e-16  \n",
      "|  880 \t  | \t  2.9733083677685943e-16  \n",
      "|  900 \t  | \t  2.842629629629629e-16  \n",
      "|  920 \t  | \t  2.720380434782608e-16  \n",
      "|  940 \t  | \t  2.605851063829787e-16  \n",
      "|  960 \t  | \t  2.498404947916666e-16  \n",
      "|  980 \t  | \t  2.3974698042482295e-16  \n"
     ]
    },
    {
     "data": {
      "image/png": "[encoded data removed]",
      "text/plain": [
       "<matplotlib.figure.Figure at 0x1c84a457358>"
      ]
     },
     "metadata": {
      "needs_background": "light"
     },
     "output_type": "display_data"
    }
   ],
   "source": [
    "F = []\n",
    "\n",
    "dash = \"-\"\n",
    "print(dash*45)\n",
    "print(\"Distance  | \\tTime\")\n",
    "print(dash*45) \n",
    "def fun(r):\n",
    "    G = 6.674 * (10**-11)\n",
    "    m1 = 1.5\n",
    "    m2 = 2.3\n",
    "    return (G*m1*m2)/(r**2)\n",
    "\n",
    "for i in range(100,1000,20):\n",
    "    Force = fun(i)\n",
    "    print(\"|  {0} \\t  | \\t  {1}  \".format(i,fun(i)))\n",
    "    F.append(Force)\n",
    "\n",
    "r = range(100,1000,20)\n",
    "plt.plot(r,F,color = \"red\",marker=\"o\")\n",
    "plt.xlabel('Distance between 2 bodies')\n",
    "plt.ylabel('Gravitational Force')\n",
    "plt.title(\"Relationship between Gravitational force and distance between 2 bodies\")\n",
    "plt.show()"
   ]
  },
  {
   "cell_type": "markdown",
   "metadata": {},
   "source": [
    "# Question 2"
   ]
  },
  {
   "cell_type": "markdown",
   "metadata": {},
   "source": [
    "## The saturation concentration of dissolved oxygen in freshwater can be calculated with the equation\n",
    "# $lno_{sf} = -139.34411 + \\frac{1.575701*10^5}{T_\\alpha} - \\frac{6.642308*10^7}{T_\\alpha^2} + \\frac{1.243800*10^{10}}{T_\\alpha^3} - \\frac{8.621949*10^{11}}{T_\\alpha^4}$ \n",
    "## where, $o$ = the saturation concentration of dissolved oxygen in freshwater $1atm(mgL^-1)$ and $T_\\alpha$ = absolute temperature $(K)$. Remeber that $T_\\alpha = T + 273.15$ where T temperature $(degree C)$. According to this equation, saturation decreases with increasing temperature. For typical natural waters in temperature climates, the equa-tion can be used to determine that oxygen concentration ranges from $14.621mg/L$ to $0^0C$ to $6.949mg/L$ at $35^0C$. Given a value of oxygenconcentration, this formula and the bisection method can be used tosolve for temperature in $(degree C)$.\n",
    "\n",
    "## $a)$ If the initial guesses are set as $0$ and $35^0C$, how many bisection iterations would be required to determine temperature to an absolute error of $0.05^0C$?\n",
    "## $b)$ Based on $a)$ develop and test a bisection program to determine $T$ as a function of a given oxygen concentration. Test your program for $o_{sf} = 8,10$ and $14mg/L$. Check your results."
   ]
  },
  {
   "cell_type": "code",
   "execution_count": 42,
   "metadata": {},
   "outputs": [
    {
     "ename": "IndentationError",
     "evalue": "expected an indented block (<ipython-input-42-bcf80a1cb384>, line 32)",
     "output_type": "error",
     "traceback": [
      "\u001b[1;36m  File \u001b[1;32m\"<ipython-input-42-bcf80a1cb384>\"\u001b[1;36m, line \u001b[1;32m32\u001b[0m\n\u001b[1;33m    print(dash)\u001b[0m\n\u001b[1;37m        ^\u001b[0m\n\u001b[1;31mIndentationError\u001b[0m\u001b[1;31m:\u001b[0m expected an indented block\n"
     ]
    }
   ],
   "source": [
    "def func(x,os):\n",
    "    return -139.34411+((1.575701*10**5)/(x+273.15))-(6.642308*(10**7)/(x+273.15)**2)+(1.243800*10**10/(x+273.15)**3)-(8.621949*10**11/(x+273.15)**4)-np.log(os)\n",
    "\n",
    "dash = '-' * 75\n",
    "\n",
    "def bisection(): \n",
    "    f = []\n",
    "    a=int(input(\"Enter a\"))\n",
    "    b=int(input(\"Enter b\"))\n",
    "    os=float(input(\"Enter oxygen concentration: \"))\n",
    "    if(os<=14.621 and os>=6.949):\n",
    "        break\n",
    "    if (func(a,os) * func(b,os) >= 0): \n",
    "        print(\"You have not assumed right a and b\\n\") \n",
    "        return\n",
    "   \n",
    "    while (True):\n",
    "        if fun(a,os)*fun(b,os)<0:\n",
    "            break\n",
    "        # Find middle point \n",
    "        c = (a+b)/2\n",
    "        absol.append(abs(b-a))\n",
    "        i=i+1\n",
    "        print('{:>12d}{:>12.6f}{:>12.6f}{:>12.6f}{:>12.6f}{:>12.6f}'.format(i+1,a,b,abs(b-a),c,func(c)))\n",
    "        # Check if middle point is root \n",
    "              \n",
    "    \n",
    "   \n",
    "    pres=float(input(\"Enter precision limit: \"))\n",
    "    while (True):\n",
    "        \n",
    "    print(dash)\n",
    "    print(\"|{:^12s}|{:^12s}|{:^12s}|{:^12s}|{:^12s}|{:^12s}|\".format(\"iteration\",\"a\",\"b\",\"c\",'f(c)',\"error\"))\n",
    "    print(dash)\n",
    "    i=0\n",
    "    \n",
    "\n",
    "    while(True):\n",
    "        c=(a+b)/2\n",
    "        i=i+1\n",
    "        e.append(abs(b-a))\n",
    "        print(\"|{:^12d}|{:^12.6f}|{:^12.6f}|{:^12.6f}|{:^12.6f}|{:^12.6f}|\".format(i,a,b,c,fun(c,os),abs(b-a)))\n",
    "        if abs(b-a)<pres:\n",
    "            break\n",
    "        if fun(a,os)*fun(c,os)<0:\n",
    "            b=c\n",
    "        if fun(b,os)*fun(c,os)<0:\n",
    "            a=c    \n",
    "        if abs(fun(c,os))==0:\n",
    "            break\n",
    "    \n",
    "\n",
    "root=bisection() \n",
    "print(\"The root using bisection method is %.6f\"%root)"
   ]
  },
  {
   "cell_type": "code",
   "execution_count": null,
   "metadata": {
    "collapsed": true
   },
   "outputs": [],
   "source": []
  }
 ],
 "metadata": {
  "kernelspec": {
   "display_name": "Python 3",
   "language": "python",
   "name": "python3"
  },
  "language_info": {
   "codemirror_mode": {
    "name": "ipython",
    "version": 3
   },
   "file_extension": ".py",
   "mimetype": "text/x-python",
   "name": "python",
   "nbconvert_exporter": "python",
   "pygments_lexer": "ipython3",
   "version": "3.6.8"
  }
 },
 "nbformat": 4,
 "nbformat_minor": 2
}
